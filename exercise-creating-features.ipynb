{
 "cells": [
  {
   "cell_type": "markdown",
   "id": "4e244d4c",
   "metadata": {
    "papermill": {
     "duration": 0.007577,
     "end_time": "2022-06-30T17:28:39.100844",
     "exception": false,
     "start_time": "2022-06-30T17:28:39.093267",
     "status": "completed"
    },
    "tags": []
   },
   "source": [
    "**This notebook is an exercise in the [Feature Engineering](https://www.kaggle.com/learn/feature-engineering) course.  You can reference the tutorial at [this link](https://www.kaggle.com/ryanholbrook/creating-features).**\n",
    "\n",
    "---\n"
   ]
  },
  {
   "cell_type": "markdown",
   "id": "790f706a",
   "metadata": {
    "papermill": {
     "duration": 0.005923,
     "end_time": "2022-06-30T17:28:39.113125",
     "exception": false,
     "start_time": "2022-06-30T17:28:39.107202",
     "status": "completed"
    },
    "tags": []
   },
   "source": [
    "# Introduction #\n",
    "\n",
    "In this exercise you'll start developing the features you identified in Exercise 2 as having the most potential. As you work through this exercise, you might take a moment to look at the data documentation again and consider whether the features we're creating make sense from a real-world perspective, and whether there are any useful combinations that stand out to you.\n",
    "\n",
    "Run this cell to set everything up!"
   ]
  },
  {
   "cell_type": "code",
   "execution_count": 1,
   "id": "88e72d37",
   "metadata": {
    "execution": {
     "iopub.execute_input": "2022-06-30T17:28:39.127967Z",
     "iopub.status.busy": "2022-06-30T17:28:39.127457Z",
     "iopub.status.idle": "2022-06-30T17:28:40.583839Z",
     "shell.execute_reply": "2022-06-30T17:28:40.582469Z"
    },
    "papermill": {
     "duration": 1.467528,
     "end_time": "2022-06-30T17:28:40.586871",
     "exception": false,
     "start_time": "2022-06-30T17:28:39.119343",
     "status": "completed"
    },
    "tags": []
   },
   "outputs": [],
   "source": [
    "# Setup feedback system\n",
    "from learntools.core import binder\n",
    "binder.bind(globals())\n",
    "from learntools.feature_engineering_new.ex3 import *\n",
    "\n",
    "import numpy as np\n",
    "import pandas as pd\n",
    "from sklearn.model_selection import cross_val_score\n",
    "from xgboost import XGBRegressor\n",
    "\n",
    "\n",
    "def score_dataset(X, y, model=XGBRegressor()):\n",
    "    # Label encoding for categoricals\n",
    "    for colname in X.select_dtypes([\"category\", \"object\"]):\n",
    "        X[colname], _ = X[colname].factorize()\n",
    "    # Metric for Housing competition is RMSLE (Root Mean Squared Log Error)\n",
    "    score = cross_val_score(\n",
    "        model, X, y, cv=5, scoring=\"neg_mean_squared_log_error\",\n",
    "    )\n",
    "    score = -1 * score.mean()\n",
    "    score = np.sqrt(score)\n",
    "    return score\n",
    "\n",
    "\n",
    "# Prepare data\n",
    "df = pd.read_csv(\"../input/fe-course-data/ames.csv\")\n",
    "X = df.copy()\n",
    "y = X.pop(\"SalePrice\")"
   ]
  },
  {
   "cell_type": "markdown",
   "id": "f9110cb2",
   "metadata": {
    "papermill": {
     "duration": 0.006218,
     "end_time": "2022-06-30T17:28:40.599696",
     "exception": false,
     "start_time": "2022-06-30T17:28:40.593478",
     "status": "completed"
    },
    "tags": []
   },
   "source": [
    "-------------------------------------------------------------------------------\n",
    "\n",
    "Let's start with a few mathematical combinations. We'll focus on features describing areas -- having the same units (square-feet) makes it easy to combine them in sensible ways. Since we're using XGBoost (a tree-based model), we'll focus on ratios and sums.\n",
    "\n",
    "# 1) Create Mathematical Transforms\n",
    "\n",
    "Create the following features:\n",
    "\n",
    "- `LivLotRatio`: the ratio of `GrLivArea` to `LotArea`\n",
    "- `Spaciousness`: the sum of `FirstFlrSF` and `SecondFlrSF` divided by `TotRmsAbvGrd`\n",
    "- `TotalOutsideSF`: the sum of `WoodDeckSF`, `OpenPorchSF`, `EnclosedPorch`, `Threeseasonporch`, and `ScreenPorch`"
   ]
  },
  {
   "cell_type": "code",
   "execution_count": 2,
   "id": "b2770814",
   "metadata": {
    "execution": {
     "iopub.execute_input": "2022-06-30T17:28:40.614373Z",
     "iopub.status.busy": "2022-06-30T17:28:40.613921Z",
     "iopub.status.idle": "2022-06-30T17:28:40.641922Z",
     "shell.execute_reply": "2022-06-30T17:28:40.640675Z"
    },
    "lines_to_next_cell": 0,
    "papermill": {
     "duration": 0.03862,
     "end_time": "2022-06-30T17:28:40.644582",
     "exception": false,
     "start_time": "2022-06-30T17:28:40.605962",
     "status": "completed"
    },
    "tags": []
   },
   "outputs": [
    {
     "data": {
      "application/javascript": [
       "parent.postMessage({\"jupyterEvent\": \"custom.exercise_interaction\", \"data\": {\"outcomeType\": 1, \"valueTowardsCompletion\": 0.2, \"interactionType\": 1, \"questionType\": 2, \"questionId\": \"1_Q1\", \"learnToolsVersion\": \"0.3.4\", \"failureMessage\": \"\", \"exceptionClass\": \"\", \"trace\": \"\"}}, \"*\")"
      ],
      "text/plain": [
       "<IPython.core.display.Javascript object>"
      ]
     },
     "metadata": {},
     "output_type": "display_data"
    },
    {
     "data": {
      "text/markdown": [
       "<span style=\"color:#33cc33\">Correct</span>"
      ],
      "text/plain": [
       "Correct"
      ]
     },
     "metadata": {},
     "output_type": "display_data"
    }
   ],
   "source": [
    "# YOUR CODE HERE\n",
    "X_1 = pd.DataFrame()  # dataframe to hold new features\n",
    "\n",
    "X_1[\"LivLotRatio\"] = df['GrLivArea']/df['LotArea']\n",
    "X_1[\"Spaciousness\"] = (df['FirstFlrSF'] + df['SecondFlrSF'])/df['TotRmsAbvGrd']\n",
    "X_1[\"TotalOutsideSF\"] = (df['WoodDeckSF'] + df['OpenPorchSF']+df['EnclosedPorch']+df['Threeseasonporch']+df['ScreenPorch'])\n",
    "\n",
    "\n",
    "# Check your answer\n",
    "q_1.check()"
   ]
  },
  {
   "cell_type": "code",
   "execution_count": 3,
   "id": "59827a8e",
   "metadata": {
    "execution": {
     "iopub.execute_input": "2022-06-30T17:28:40.659297Z",
     "iopub.status.busy": "2022-06-30T17:28:40.658938Z",
     "iopub.status.idle": "2022-06-30T17:28:40.663925Z",
     "shell.execute_reply": "2022-06-30T17:28:40.662605Z"
    },
    "lines_to_next_cell": 0,
    "papermill": {
     "duration": 0.014833,
     "end_time": "2022-06-30T17:28:40.666012",
     "exception": false,
     "start_time": "2022-06-30T17:28:40.651179",
     "status": "completed"
    },
    "tags": []
   },
   "outputs": [],
   "source": [
    "# Lines below will give you a hint or solution code\n",
    "#q_1.hint()\n",
    "#q_1.solution()"
   ]
  },
  {
   "cell_type": "markdown",
   "id": "86ff147b",
   "metadata": {
    "papermill": {
     "duration": 0.006557,
     "end_time": "2022-06-30T17:28:40.679022",
     "exception": false,
     "start_time": "2022-06-30T17:28:40.672465",
     "status": "completed"
    },
    "tags": []
   },
   "source": [
    "-------------------------------------------------------------------------------\n",
    "\n",
    "If you've discovered an interaction effect between a numeric feature and a categorical feature, you might want to model it explicitly using a one-hot encoding, like so:\n",
    "\n",
    "```\n",
    "# One-hot encode Categorical feature, adding a column prefix \"Cat\"\n",
    "X_new = pd.get_dummies(df.Categorical, prefix=\"Cat\")\n",
    "\n",
    "# Multiply row-by-row\n",
    "X_new = X_new.mul(df.Continuous, axis=0)\n",
    "\n",
    "# Join the new features to the feature set\n",
    "X = X.join(X_new)\n",
    "```\n",
    "\n",
    "# 2) Interaction with a Categorical\n",
    "\n",
    "We discovered an interaction between `BldgType` and `GrLivArea` in Exercise 2. Now create their interaction features."
   ]
  },
  {
   "cell_type": "code",
   "execution_count": 4,
   "id": "cdc22a87",
   "metadata": {
    "execution": {
     "iopub.execute_input": "2022-06-30T17:28:40.693861Z",
     "iopub.status.busy": "2022-06-30T17:28:40.693414Z",
     "iopub.status.idle": "2022-06-30T17:28:40.708772Z",
     "shell.execute_reply": "2022-06-30T17:28:40.707652Z"
    },
    "lines_to_next_cell": 0,
    "papermill": {
     "duration": 0.025703,
     "end_time": "2022-06-30T17:28:40.711033",
     "exception": false,
     "start_time": "2022-06-30T17:28:40.685330",
     "status": "completed"
    },
    "tags": []
   },
   "outputs": [
    {
     "data": {
      "application/javascript": [
       "parent.postMessage({\"jupyterEvent\": \"custom.exercise_interaction\", \"data\": {\"outcomeType\": 1, \"valueTowardsCompletion\": 0.2, \"interactionType\": 1, \"questionType\": 2, \"questionId\": \"2_Q2\", \"learnToolsVersion\": \"0.3.4\", \"failureMessage\": \"\", \"exceptionClass\": \"\", \"trace\": \"\"}}, \"*\")"
      ],
      "text/plain": [
       "<IPython.core.display.Javascript object>"
      ]
     },
     "metadata": {},
     "output_type": "display_data"
    },
    {
     "data": {
      "text/markdown": [
       "<span style=\"color:#33cc33\">Correct</span>"
      ],
      "text/plain": [
       "Correct"
      ]
     },
     "metadata": {},
     "output_type": "display_data"
    }
   ],
   "source": [
    "# YOUR CODE HERE\n",
    "# One-hot encode BldgType. Use `prefix=\"Bldg\"` in `get_dummies`\n",
    "X_2 = pd.get_dummies(df.BldgType, prefix=\"Bldg\") \n",
    "# Multiply\n",
    "X_2 = X_2.mul(df.GrLivArea, axis=0)\n",
    "\n",
    "\n",
    "# Check your answer\n",
    "q_2.check()"
   ]
  },
  {
   "cell_type": "code",
   "execution_count": 5,
   "id": "ac7d839e",
   "metadata": {
    "execution": {
     "iopub.execute_input": "2022-06-30T17:28:40.726985Z",
     "iopub.status.busy": "2022-06-30T17:28:40.726581Z",
     "iopub.status.idle": "2022-06-30T17:28:40.731524Z",
     "shell.execute_reply": "2022-06-30T17:28:40.730394Z"
    },
    "lines_to_next_cell": 0,
    "papermill": {
     "duration": 0.015664,
     "end_time": "2022-06-30T17:28:40.733818",
     "exception": false,
     "start_time": "2022-06-30T17:28:40.718154",
     "status": "completed"
    },
    "tags": []
   },
   "outputs": [],
   "source": [
    "# Lines below will give you a hint or solution code\n",
    "#q_2.hint()\n",
    "#q_2.solution()"
   ]
  },
  {
   "cell_type": "markdown",
   "id": "dc876165",
   "metadata": {
    "lines_to_next_cell": 0,
    "papermill": {
     "duration": 0.006715,
     "end_time": "2022-06-30T17:28:40.747677",
     "exception": false,
     "start_time": "2022-06-30T17:28:40.740962",
     "status": "completed"
    },
    "tags": []
   },
   "source": [
    "# 3) Count Feature\n",
    "\n",
    "Let's try creating a feature that describes how many kinds of outdoor areas a dwelling has. Create a feature `PorchTypes` that counts how many of the following are greater than 0.0:\n",
    "\n",
    "```\n",
    "WoodDeckSF\n",
    "OpenPorchSF\n",
    "EnclosedPorch\n",
    "Threeseasonporch\n",
    "ScreenPorch\n",
    "```"
   ]
  },
  {
   "cell_type": "code",
   "execution_count": 6,
   "id": "6263b42f",
   "metadata": {
    "execution": {
     "iopub.execute_input": "2022-06-30T17:28:40.763820Z",
     "iopub.status.busy": "2022-06-30T17:28:40.763452Z",
     "iopub.status.idle": "2022-06-30T17:28:40.784337Z",
     "shell.execute_reply": "2022-06-30T17:28:40.782983Z"
    },
    "lines_to_next_cell": 0,
    "papermill": {
     "duration": 0.032118,
     "end_time": "2022-06-30T17:28:40.787038",
     "exception": false,
     "start_time": "2022-06-30T17:28:40.754920",
     "status": "completed"
    },
    "tags": []
   },
   "outputs": [
    {
     "data": {
      "application/javascript": [
       "parent.postMessage({\"jupyterEvent\": \"custom.exercise_interaction\", \"data\": {\"outcomeType\": 1, \"valueTowardsCompletion\": 0.2, \"interactionType\": 1, \"questionType\": 2, \"questionId\": \"3_Q3\", \"learnToolsVersion\": \"0.3.4\", \"failureMessage\": \"\", \"exceptionClass\": \"\", \"trace\": \"\"}}, \"*\")"
      ],
      "text/plain": [
       "<IPython.core.display.Javascript object>"
      ]
     },
     "metadata": {},
     "output_type": "display_data"
    },
    {
     "data": {
      "text/markdown": [
       "<span style=\"color:#33cc33\">Correct</span>"
      ],
      "text/plain": [
       "Correct"
      ]
     },
     "metadata": {},
     "output_type": "display_data"
    }
   ],
   "source": [
    "X_3 = pd.DataFrame()\n",
    "\n",
    "# YOUR CODE HERE\n",
    "X_3[\"PorchTypes\"] = df[[\n",
    "    \"WoodDeckSF\",\n",
    "    \"OpenPorchSF\",\n",
    "    \"EnclosedPorch\",\n",
    "    \"Threeseasonporch\",\n",
    "    \"ScreenPorch\",\n",
    "]].gt(0.0).sum(axis=1)\n",
    "\n",
    "\n",
    "# Check your answer\n",
    "q_3.check()"
   ]
  },
  {
   "cell_type": "code",
   "execution_count": 7,
   "id": "1fea3958",
   "metadata": {
    "execution": {
     "iopub.execute_input": "2022-06-30T17:28:40.803867Z",
     "iopub.status.busy": "2022-06-30T17:28:40.802942Z",
     "iopub.status.idle": "2022-06-30T17:28:40.807448Z",
     "shell.execute_reply": "2022-06-30T17:28:40.806673Z"
    },
    "lines_to_next_cell": 0,
    "papermill": {
     "duration": 0.01519,
     "end_time": "2022-06-30T17:28:40.809518",
     "exception": false,
     "start_time": "2022-06-30T17:28:40.794328",
     "status": "completed"
    },
    "tags": []
   },
   "outputs": [],
   "source": [
    "# Lines below will give you a hint or solution code\n",
    "#q_3.hint()\n",
    "#q_3.solution()"
   ]
  },
  {
   "cell_type": "markdown",
   "id": "72b22505",
   "metadata": {
    "papermill": {
     "duration": 0.006588,
     "end_time": "2022-06-30T17:28:40.823007",
     "exception": false,
     "start_time": "2022-06-30T17:28:40.816419",
     "status": "completed"
    },
    "tags": []
   },
   "source": [
    "# 4) Break Down a Categorical Feature\n",
    "\n",
    "`MSSubClass` describes the type of a dwelling:"
   ]
  },
  {
   "cell_type": "code",
   "execution_count": 8,
   "id": "62dee7b9",
   "metadata": {
    "execution": {
     "iopub.execute_input": "2022-06-30T17:28:40.841398Z",
     "iopub.status.busy": "2022-06-30T17:28:40.841004Z",
     "iopub.status.idle": "2022-06-30T17:28:40.849545Z",
     "shell.execute_reply": "2022-06-30T17:28:40.848484Z"
    },
    "papermill": {
     "duration": 0.019683,
     "end_time": "2022-06-30T17:28:40.851817",
     "exception": false,
     "start_time": "2022-06-30T17:28:40.832134",
     "status": "completed"
    },
    "tags": []
   },
   "outputs": [
    {
     "data": {
      "text/plain": [
       "array(['One_Story_1946_and_Newer_All_Styles', 'Two_Story_1946_and_Newer',\n",
       "       'One_Story_PUD_1946_and_Newer',\n",
       "       'One_and_Half_Story_Finished_All_Ages', 'Split_Foyer',\n",
       "       'Two_Story_PUD_1946_and_Newer', 'Split_or_Multilevel',\n",
       "       'One_Story_1945_and_Older', 'Duplex_All_Styles_and_Ages',\n",
       "       'Two_Family_conversion_All_Styles_and_Ages',\n",
       "       'One_and_Half_Story_Unfinished_All_Ages',\n",
       "       'Two_Story_1945_and_Older', 'Two_and_Half_Story_All_Ages',\n",
       "       'One_Story_with_Finished_Attic_All_Ages',\n",
       "       'PUD_Multilevel_Split_Level_Foyer',\n",
       "       'One_and_Half_Story_PUD_All_Ages'], dtype=object)"
      ]
     },
     "execution_count": 8,
     "metadata": {},
     "output_type": "execute_result"
    }
   ],
   "source": [
    "df.MSSubClass.unique()"
   ]
  },
  {
   "cell_type": "markdown",
   "id": "06832f06",
   "metadata": {
    "papermill": {
     "duration": 0.006833,
     "end_time": "2022-06-30T17:28:40.865941",
     "exception": false,
     "start_time": "2022-06-30T17:28:40.859108",
     "status": "completed"
    },
    "tags": []
   },
   "source": [
    "You can see that there is a more general categorization described (roughly) by the first word of each category. Create a feature containing only these first words by splitting `MSSubClass` at the first underscore `_`. (Hint: In the `split` method use an argument `n=1`.)"
   ]
  },
  {
   "cell_type": "code",
   "execution_count": 9,
   "id": "c61a2319",
   "metadata": {
    "execution": {
     "iopub.execute_input": "2022-06-30T17:28:40.881731Z",
     "iopub.status.busy": "2022-06-30T17:28:40.881337Z",
     "iopub.status.idle": "2022-06-30T17:28:40.909161Z",
     "shell.execute_reply": "2022-06-30T17:28:40.907780Z"
    },
    "lines_to_next_cell": 0,
    "papermill": {
     "duration": 0.038436,
     "end_time": "2022-06-30T17:28:40.911395",
     "exception": false,
     "start_time": "2022-06-30T17:28:40.872959",
     "status": "completed"
    },
    "tags": []
   },
   "outputs": [
    {
     "data": {
      "application/javascript": [
       "parent.postMessage({\"jupyterEvent\": \"custom.exercise_interaction\", \"data\": {\"outcomeType\": 1, \"valueTowardsCompletion\": 0.2, \"interactionType\": 1, \"questionType\": 2, \"questionId\": \"4_Q4\", \"learnToolsVersion\": \"0.3.4\", \"failureMessage\": \"\", \"exceptionClass\": \"\", \"trace\": \"\"}}, \"*\")"
      ],
      "text/plain": [
       "<IPython.core.display.Javascript object>"
      ]
     },
     "metadata": {},
     "output_type": "display_data"
    },
    {
     "data": {
      "text/markdown": [
       "<span style=\"color:#33cc33\">Correct</span>"
      ],
      "text/plain": [
       "Correct"
      ]
     },
     "metadata": {},
     "output_type": "display_data"
    }
   ],
   "source": [
    "X_4 = pd.DataFrame()\n",
    "\n",
    "# YOUR CODE HERE\n",
    "X_4[\"MSClass\"] = df.MSSubClass.str.split(\"_\", n=1, expand=True)[0]\n",
    "# Check your answer\n",
    "q_4.check()"
   ]
  },
  {
   "cell_type": "code",
   "execution_count": 10,
   "id": "4aea05f5",
   "metadata": {
    "execution": {
     "iopub.execute_input": "2022-06-30T17:28:40.930341Z",
     "iopub.status.busy": "2022-06-30T17:28:40.928407Z",
     "iopub.status.idle": "2022-06-30T17:28:40.934503Z",
     "shell.execute_reply": "2022-06-30T17:28:40.933783Z"
    },
    "lines_to_next_cell": 0,
    "papermill": {
     "duration": 0.017424,
     "end_time": "2022-06-30T17:28:40.936676",
     "exception": false,
     "start_time": "2022-06-30T17:28:40.919252",
     "status": "completed"
    },
    "tags": []
   },
   "outputs": [],
   "source": [
    "# Lines below will give you a hint or solution code\n",
    "#q_4.hint()\n",
    "#q_4.solution()"
   ]
  },
  {
   "cell_type": "markdown",
   "id": "973b8ccb",
   "metadata": {
    "papermill": {
     "duration": 0.007099,
     "end_time": "2022-06-30T17:28:40.951106",
     "exception": false,
     "start_time": "2022-06-30T17:28:40.944007",
     "status": "completed"
    },
    "tags": []
   },
   "source": [
    "# 5) Use a Grouped Transform\n",
    "\n",
    "The value of a home often depends on how it compares to typical homes in its neighborhood. Create a feature `MedNhbdArea` that describes the *median* of `GrLivArea` grouped on `Neighborhood`."
   ]
  },
  {
   "cell_type": "code",
   "execution_count": 11,
   "id": "aa60363a",
   "metadata": {
    "execution": {
     "iopub.execute_input": "2022-06-30T17:28:40.967754Z",
     "iopub.status.busy": "2022-06-30T17:28:40.967361Z",
     "iopub.status.idle": "2022-06-30T17:28:40.989179Z",
     "shell.execute_reply": "2022-06-30T17:28:40.988010Z"
    },
    "lines_to_next_cell": 0,
    "papermill": {
     "duration": 0.033354,
     "end_time": "2022-06-30T17:28:40.991812",
     "exception": false,
     "start_time": "2022-06-30T17:28:40.958458",
     "status": "completed"
    },
    "tags": []
   },
   "outputs": [
    {
     "data": {
      "application/javascript": [
       "parent.postMessage({\"jupyterEvent\": \"custom.exercise_interaction\", \"data\": {\"outcomeType\": 1, \"valueTowardsCompletion\": 0.2, \"interactionType\": 1, \"questionType\": 2, \"questionId\": \"5_Q5\", \"learnToolsVersion\": \"0.3.4\", \"failureMessage\": \"\", \"exceptionClass\": \"\", \"trace\": \"\"}}, \"*\")"
      ],
      "text/plain": [
       "<IPython.core.display.Javascript object>"
      ]
     },
     "metadata": {},
     "output_type": "display_data"
    },
    {
     "data": {
      "text/markdown": [
       "<span style=\"color:#33cc33\">Correct</span>"
      ],
      "text/plain": [
       "Correct"
      ]
     },
     "metadata": {},
     "output_type": "display_data"
    }
   ],
   "source": [
    "X_5 = pd.DataFrame()\n",
    "\n",
    "# YOUR CODE HERE\n",
    "X_5[\"MedNhbdArea\"] = df.groupby('Neighborhood')['GrLivArea'].transform('median')\n",
    "\n",
    "# Check your answer\n",
    "q_5.check()"
   ]
  },
  {
   "cell_type": "code",
   "execution_count": 12,
   "id": "6e85e389",
   "metadata": {
    "execution": {
     "iopub.execute_input": "2022-06-30T17:28:41.010092Z",
     "iopub.status.busy": "2022-06-30T17:28:41.009705Z",
     "iopub.status.idle": "2022-06-30T17:28:41.013363Z",
     "shell.execute_reply": "2022-06-30T17:28:41.012588Z"
    },
    "lines_to_next_cell": 0,
    "papermill": {
     "duration": 0.015475,
     "end_time": "2022-06-30T17:28:41.015363",
     "exception": false,
     "start_time": "2022-06-30T17:28:40.999888",
     "status": "completed"
    },
    "tags": []
   },
   "outputs": [],
   "source": [
    "# Lines below will give you a hint or solution code\n",
    "#q_5.hint()\n",
    "#q_5.solution()"
   ]
  },
  {
   "cell_type": "markdown",
   "id": "eecdd7ec",
   "metadata": {
    "papermill": {
     "duration": 0.007871,
     "end_time": "2022-06-30T17:28:41.031214",
     "exception": false,
     "start_time": "2022-06-30T17:28:41.023343",
     "status": "completed"
    },
    "tags": []
   },
   "source": [
    "Now you've made your first new feature set! If you like, you can run the cell below to score the model with all of your new features added:"
   ]
  },
  {
   "cell_type": "code",
   "execution_count": 13,
   "id": "98a7b596",
   "metadata": {
    "execution": {
     "iopub.execute_input": "2022-06-30T17:28:41.049604Z",
     "iopub.status.busy": "2022-06-30T17:28:41.048958Z",
     "iopub.status.idle": "2022-06-30T17:28:45.924344Z",
     "shell.execute_reply": "2022-06-30T17:28:45.922883Z"
    },
    "papermill": {
     "duration": 4.888034,
     "end_time": "2022-06-30T17:28:45.927419",
     "exception": false,
     "start_time": "2022-06-30T17:28:41.039385",
     "status": "completed"
    },
    "tags": []
   },
   "outputs": [
    {
     "data": {
      "text/plain": [
       "0.13847331710099203"
      ]
     },
     "execution_count": 13,
     "metadata": {},
     "output_type": "execute_result"
    }
   ],
   "source": [
    "X_new = X.join([X_1, X_2, X_3, X_4, X_5])\n",
    "score_dataset(X_new, y)"
   ]
  },
  {
   "cell_type": "markdown",
   "id": "ddbcbd06",
   "metadata": {
    "papermill": {
     "duration": 0.007527,
     "end_time": "2022-06-30T17:28:45.944313",
     "exception": false,
     "start_time": "2022-06-30T17:28:45.936786",
     "status": "completed"
    },
    "tags": []
   },
   "source": [
    "# Keep Going #\n",
    "\n",
    "[**Untangle spatial relationships**](https://www.kaggle.com/ryanholbrook/clustering-with-k-means) by adding cluster labels to your dataset."
   ]
  },
  {
   "cell_type": "markdown",
   "id": "8f07f133",
   "metadata": {
    "papermill": {
     "duration": 0.007384,
     "end_time": "2022-06-30T17:28:45.959412",
     "exception": false,
     "start_time": "2022-06-30T17:28:45.952028",
     "status": "completed"
    },
    "tags": []
   },
   "source": [
    "---\n",
    "\n",
    "\n",
    "\n",
    "\n",
    "*Have questions or comments? Visit the [course discussion forum](https://www.kaggle.com/learn/feature-engineering/discussion) to chat with other learners.*"
   ]
  }
 ],
 "metadata": {
  "kernelspec": {
   "display_name": "Python 3",
   "language": "python",
   "name": "python3"
  },
  "language_info": {
   "codemirror_mode": {
    "name": "ipython",
    "version": 3
   },
   "file_extension": ".py",
   "mimetype": "text/x-python",
   "name": "python",
   "nbconvert_exporter": "python",
   "pygments_lexer": "ipython3",
   "version": "3.7.12"
  },
  "papermill": {
   "default_parameters": {},
   "duration": 18.126161,
   "end_time": "2022-06-30T17:28:46.892234",
   "environment_variables": {},
   "exception": null,
   "input_path": "__notebook__.ipynb",
   "output_path": "__notebook__.ipynb",
   "parameters": {},
   "start_time": "2022-06-30T17:28:28.766073",
   "version": "2.3.4"
  }
 },
 "nbformat": 4,
 "nbformat_minor": 5
}
